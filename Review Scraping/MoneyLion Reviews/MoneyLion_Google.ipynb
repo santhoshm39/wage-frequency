{
 "cells": [
  {
   "cell_type": "code",
   "execution_count": 3,
   "metadata": {},
   "outputs": [],
   "source": [
    "from google_play_scraper import app\n",
    "from google_play_scraper import Sort, reviews_all\n",
    "from google_play_scraper import Sort, reviews\n",
    "\n"
   ]
  },
  {
   "cell_type": "code",
   "execution_count": 4,
   "metadata": {},
   "outputs": [],
   "source": [
    "moneyLionAllReviews = reviews_all(\n",
    "    'com.moneylion',\n",
    "    sleep_milliseconds=0, # defaults to 0\n",
    "    lang='en', # defaults to 'en'\n",
    "    country='us', # defaults to 'us'\n",
    "    sort=Sort.MOST_RELEVANT, # defaults to Sort.MOST_RELEVANT\n",
    "    filter_score_with=None # defaults to None(means all score)\n",
    ")\n"
   ]
  },
  {
   "cell_type": "code",
   "execution_count": 58,
   "metadata": {},
   "outputs": [
    {
     "data": {
      "text/plain": [
       "1098"
      ]
     },
     "execution_count": 58,
     "metadata": {},
     "output_type": "execute_result"
    }
   ],
   "source": [
    "len(result)"
   ]
  },
  {
   "cell_type": "code",
   "execution_count": 59,
   "metadata": {},
   "outputs": [],
   "source": [
    "tenReviews = [result[i]['content'] for i in range(10)]"
   ]
  },
  {
   "cell_type": "code",
   "execution_count": 60,
   "metadata": {},
   "outputs": [
    {
     "data": {
      "text/plain": [
       "['Have a card balance of well over 40 dollars and it still tells me I need a balance of 40 to transfer funds and that my current balance is actually zero. Not liking this app at all. EDIT: I\\'ve uninstalled and reinstalled the app and I still get the same prompt that I have no balance. EDIT 2: Support stopped emailing me after telling me I can\\'t put my tips in my own bank account using the app and I asked what the \"Bank\" and \"Card\" buttons are for if that\\'s the case. Do not recommend this app.',\n",
       " 'Piece of trash. It only works 2% of the time. Not everyone can afford for you guys to mess with our money. Its stressful and unfair. I pay 10 dollars a month for the app to not ever work. It crashes constantly, it tells you you have money available and then the next time you log in theres no money. This app is trash. Dont waste your money. They dont care whether or not you get the money you worked for.',\n",
       " \"Love the ability to get my check early if I need it but the app needs alot of work. Sometimes it won't let me log in and when it does it takes like 7 minutes to do so. Update: After the last update it went from 2 stars to 5. Big improvement.\",\n",
       " \"I had hrs and. $ accessible this a.m. now it's saying I don't have anything reported and in chat they told me my employer deactivated my acct and to contact HR. They know nothing about it and now I'm seeing a lot of ppl having issues lately! Why not just admit that its an issue with the app and fix it\",\n",
       " 'Was issued a ticket in regards to my account been a week and have not been able to get in contact with anyone',\n",
       " \"Literally a scam. Robbed me blind over $100 and won't work with me to fix any of it. I get told it's on my jobs payroll department to fix it when I can clearly see in the app the amount I've withdrawn early and the amount being deducted from my next check is that on top of another $120+ I'm getting all my check stubs together since I've started using payactiv because I truly feel they've been stealing money from me. I'm going to take firm legal actions if that extra $125 comes out my next check\",\n",
       " \"Not happy With Payactiv It never updates my payperiod and that doesn't help when I need to pull money out to help with things I need to get.\",\n",
       " \"It's not even sending verification texts to create account so what is point of this and getting hopes up\",\n",
       " \"Great concept horrible execution. Recently I think they had an update and as the other comments state, it never loads. You'd think after all These detailed reviews explaining all the glitches they would actually go in and repair them. I have to go to the website to actually look at my earnings. If they fix these issues it would be deserving of more stars. It would be nice if you can actually use it.\",\n",
       " \"This app is not as good as they advertise, I've tried to log in 4 times and each time it takes over 7 minutes and I end up having to restart my phone and that's not good. If I need to get money I can just wait until the actual pay day to get it because this joint here isn't for that action. I'll delete it and uninstall it as I don't need anything clogging up my phone anymore.\"]"
      ]
     },
     "execution_count": 60,
     "metadata": {},
     "output_type": "execute_result"
    }
   ],
   "source": [
    "tenReviews"
   ]
  }
 ],
 "metadata": {
  "kernelspec": {
   "display_name": "Python 3",
   "language": "python",
   "name": "python3"
  },
  "language_info": {
   "codemirror_mode": {
    "name": "ipython",
    "version": 3
   },
   "file_extension": ".py",
   "mimetype": "text/x-python",
   "name": "python",
   "nbconvert_exporter": "python",
   "pygments_lexer": "ipython3",
   "version": "3.8.3"
  }
 },
 "nbformat": 4,
 "nbformat_minor": 4
}
